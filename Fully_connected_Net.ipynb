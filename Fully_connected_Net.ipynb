{
  "nbformat": 4,
  "nbformat_minor": 0,
  "metadata": {
    "colab": {
      "name": "Fully connected Net.ipynb",
      "provenance": [],
      "collapsed_sections": [],
      "authorship_tag": "ABX9TyMvU2eX+mG0EImwBGXbfUiz",
      "include_colab_link": true
    },
    "kernelspec": {
      "name": "python3",
      "display_name": "Python 3"
    },
    "language_info": {
      "name": "python"
    }
  },
  "cells": [
    {
      "cell_type": "markdown",
      "metadata": {
        "id": "view-in-github",
        "colab_type": "text"
      },
      "source": [
        "<a href=\"https://colab.research.google.com/github/itzThillaiC/Pytorch-models/blob/main/Fully_connected_Net.ipynb\" target=\"_parent\"><img src=\"https://colab.research.google.com/assets/colab-badge.svg\" alt=\"Open In Colab\"/></a>"
      ]
    },
    {
      "cell_type": "markdown",
      "source": [
        "**Importing libraries**"
      ],
      "metadata": {
        "id": "KUnxLj48vjGZ"
      }
    },
    {
      "cell_type": "code",
      "execution_count": 5,
      "metadata": {
        "id": "zb54f1MjvYYK"
      },
      "outputs": [],
      "source": [
        "import torch\n",
        "import torch.nn as nn\n",
        "import torch.optim as optim\n",
        "import torch.nn.functional as F\n",
        "from torch.utils.data import DataLoader\n",
        "import torchvision.datasets as datasets\n",
        "import torchvision.transforms as transforms"
      ]
    },
    {
      "cell_type": "markdown",
      "source": [
        "**Creating Fully connected Neural Network**"
      ],
      "metadata": {
        "id": "rJb168m2zaAP"
      }
    },
    {
      "cell_type": "code",
      "source": [
        "class NN(nn.Module):\n",
        "  def __init__(self,input_size,num_classes):\n",
        "    super(NN,self).__init__()\n",
        "    self.fc1=nn.Linear(input_size,50)\n",
        "    self.fc2=nn.Linear(50,num_classes)\n",
        "\n",
        "  def forward(self,x):\n",
        "    x=F.relu(self.fc1(x))\n",
        "    x=self.fc2(x)\n",
        "    return x\n"
      ],
      "metadata": {
        "id": "f4ZpLoJ8xJCY"
      },
      "execution_count": 8,
      "outputs": []
    },
    {
      "cell_type": "markdown",
      "source": [
        "**Initializing device**"
      ],
      "metadata": {
        "id": "S3gDOf3Z17a4"
      }
    },
    {
      "cell_type": "code",
      "source": [
        "device=torch.device('cuda' if torch.cuda.is_available() else 'cpu')"
      ],
      "metadata": {
        "id": "DbqPI86D17DE"
      },
      "execution_count": 12,
      "outputs": []
    },
    {
      "cell_type": "markdown",
      "source": [
        "**Setting Hyperparameters**"
      ],
      "metadata": {
        "id": "3fBgs1282u-s"
      }
    },
    {
      "cell_type": "code",
      "source": [
        "input_size=784\n",
        "num_classes=10\n",
        "learning_rate=0.001\n",
        "batch_size=64\n",
        "num_epochs=1"
      ],
      "metadata": {
        "id": "IdGetq8D2uvi"
      },
      "execution_count": 10,
      "outputs": []
    },
    {
      "cell_type": "markdown",
      "source": [
        "Loading dataset"
      ],
      "metadata": {
        "id": "FLtYt8_o3DNH"
      }
    },
    {
      "cell_type": "code",
      "source": [
        "train_dataset=datasets.MNIST(root='dataset/',train=True,transform=transforms.ToTensor(,download=True))\n",
        "train_loader=DataLoader(dataset=train_dataset,batch_size=batch_size,shuffle=True)\n",
        "test_dataset=datasets.MNIST(root='dataset/',train=False,transform=transforms.ToTensor(,download=True))\n",
        "test_loader=DataLoader(dataset=test_dataset,batch_size=batch_size,shuffle=True)"
      ],
      "metadata": {
        "id": "dajm16He3C_d"
      },
      "execution_count": null,
      "outputs": []
    },
    {
      "cell_type": "markdown",
      "source": [
        "**Intialize network**"
      ],
      "metadata": {
        "id": "yYVYwtpx4Exw"
      }
    },
    {
      "cell_type": "code",
      "source": [
        "model=NN(input_size=input_size,num_classes=num_classes).to(device)"
      ],
      "metadata": {
        "id": "b-ITbJfb4HlF"
      },
      "execution_count": 13,
      "outputs": []
    },
    {
      "cell_type": "markdown",
      "source": [
        "**Loss and Optimization**"
      ],
      "metadata": {
        "id": "CEbLRdTW4nWu"
      }
    },
    {
      "cell_type": "code",
      "source": [
        "criterion=nn.CrossEntropyLoss()\n",
        "optimizer=optim.Adam(model.parameters(),lr=learning_rate)\n"
      ],
      "metadata": {
        "id": "Z_qWGTWe4nIt"
      },
      "execution_count": 14,
      "outputs": []
    },
    {
      "cell_type": "markdown",
      "source": [
        "**Training the network**"
      ],
      "metadata": {
        "id": "ZCZY0KID4-3s"
      }
    },
    {
      "cell_type": "code",
      "source": [
        "for epoch in range(num_epochs):\n",
        "  for batch_idx,(data,targets) in enumerate(train_loader):\n",
        "    #push data to cuda if possible\n",
        "    data=data.to(device=device)\n",
        "    targets=targets.to(device=device)\n",
        "    \n",
        "    #reshaping it to correct shape\n",
        "    data=data.reshape(data.shape[0],-1)\n",
        "\n",
        "    #forward\n",
        "    scores=model(data)\n",
        "    loss=criterion(scores,targets)\n",
        "\n",
        "    #backward\n",
        "    optimizer.zero_grad()\n",
        "    loss.backward()\n",
        "\n",
        "    #gradient descent or adam step\n",
        "    optimizer.step()\n"
      ],
      "metadata": {
        "id": "3-SJue-_9C-y"
      },
      "execution_count": null,
      "outputs": []
    },
    {
      "cell_type": "markdown",
      "source": [
        "**Checking Accuracy**"
      ],
      "metadata": {
        "id": "OgImv2LL9E-K"
      }
    },
    {
      "cell_type": "code",
      "source": [
        "def check_accuracy(loader, model):\n",
        "    num_correct = 0\n",
        "    num_samples = 0\n",
        "    model.eval()\n",
        "\n",
        "    with torch.no_grad():\n",
        "        for x, y in loader:\n",
        "            x = x.to(device=device)\n",
        "            y = y.to(device=device)\n",
        "            x = x.reshape(x.shape[0], -1)\n",
        "\n",
        "            scores = model(x)\n",
        "            _, predictions = scores.max(1)\n",
        "            num_correct += (predictions == y).sum()\n",
        "            num_samples += predictions.size(0)\n",
        "\n",
        "    model.train()\n",
        "    return num_correct/num_samples\n",
        "\n",
        "\n",
        "print(f\"Accuracy on training set: {check_accuracy(train_loader, model)*100:.2f}\")\n",
        "print(f\"Accuracy on test set: {check_accuracy(test_loader, model)*100:.2f}\")"
      ],
      "metadata": {
        "id": "BZuTFn5c9EvM"
      },
      "execution_count": null,
      "outputs": []
    }
  ]
}